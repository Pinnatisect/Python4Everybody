{
 "cells": [
  {
   "cell_type": "markdown",
   "metadata": {},
   "source": [
    "## Extracting Data With Regular Expressions\n",
    "\n",
    "In this assignment you will read through and parse a file with text and numbers. You will extract all the numbers in the file and compute the sum of the numbers.\n",
    "\n",
    "#### Finding Numbers in a Haystack\n",
    "\n",
    "In this assignment you will read through and parse a file with text and numbers. You will extract all the numbers in the file and compute the sum of the numbers.\n",
    "\n",
    "#### Data Files\n",
    "\n",
    "We provide two files for this assignment. One is a sample file where we give you the sum for your testing and the other is the actual data you need to process for the assignment.\n",
    "\n",
    "Sample data: http://py4e-data.dr-chuck.net/regex_sum_42.txt (There are 90 values with a sum=445833)\n",
    "Actual data: http://py4e-data.dr-chuck.net/regex_sum_522911.txt (There are 72 values and the sum ends with 535)\n",
    "\n",
    "Note that if you have another file, don't forget to modify the extension."
   ]
  },
  {
   "cell_type": "code",
   "execution_count": 2,
   "metadata": {},
   "outputs": [
    {
     "name": "stdout",
     "output_type": "stream",
     "text": [
      "[8972, 9872, 9186, 3731, 208, 5498, 4466, 6362, 7199, 6087, 3034, 9230, 7596, 3611, 5011, 5945, 6244, 1446, 1599, 4091, 1945, 9110, 7439, 7653, 6881, 2004, 3603, 2335, 2231, 9857, 7317, 1316, 4, 7225, 3602, 9675, 4844, 641, 9715, 6824, 6826, 6485, 9481, 6953, 8319, 6090, 4466, 714, 6041, 3554, 2829, 2648, 6097, 1753, 5329, 5934, 515, 2312, 6423, 2138, 3852, 4492, 1476, 7119, 1, 5568, 4673, 6916, 3873, 4, 3, 42]\n",
      "Our sum is : 346535\n"
     ]
    }
   ],
   "source": [
    "import re\n",
    "\n",
    "\n",
    "myfile = open(\"regex_sum_522911.txt\")  # open the file\n",
    "mylist = list()                        # create a list. we will append our values to that list.\n",
    "sum = 0                                # to iterate over our list and find sum, define sum variable.\n",
    "for line in myfile:\n",
    "    line = line.rstrip()\n",
    "    numbers = re.findall('[0-9]+', line) \n",
    "    if len(numbers) == 0:              # we don't want to obtain [] or empty element\n",
    "        continue \n",
    "    for i in range(0,len(numbers)):    # some of our list elements contain more than one variable. we should change them to integers.\n",
    "        numbers[i] = int(numbers[i])\n",
    "        mylist.append(numbers[i])      # after converting them to integers, add them to the list! don't miss indentation!\n",
    "print(mylist)\n",
    "for i in range(0,len(mylist)):         # iterate over list and calculate the sum\n",
    "    sum = sum + mylist[i]\n",
    "print(\"Our sum is :\", sum)"
   ]
  }
 ],
 "metadata": {
  "kernelspec": {
   "display_name": "Python 3",
   "language": "python",
   "name": "python3"
  },
  "language_info": {
   "codemirror_mode": {
    "name": "ipython",
    "version": 3
   },
   "file_extension": ".py",
   "mimetype": "text/x-python",
   "name": "python",
   "nbconvert_exporter": "python",
   "pygments_lexer": "ipython3",
   "version": "3.7.4"
  }
 },
 "nbformat": 4,
 "nbformat_minor": 2
}

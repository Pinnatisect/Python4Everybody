{
 "cells": [
  {
   "cell_type": "markdown",
   "metadata": {},
   "source": [
    "## ASSIGNMENT 8.5"
   ]
  },
  {
   "cell_type": "markdown",
   "metadata": {},
   "source": [
    "##### Open the file mbox-short.txt and read it line by line. When you find a line that starts with 'From ' like the following line:\n",
    "#### From stephen.marquard@uct.ac.za Sat Jan  5 09:14:16 2008\n",
    "#### You will parse the From line using split() and print out the second word in the line (i.e. the entire address of the person who sent the message). Then print out a count at the end.\n",
    "#### Hint: make sure not to include the lines that start with 'From:'.\n",
    "\n",
    "#### You can download the sample data at http://www.py4e.com/code3/mbox-short.txt"
   ]
  },
  {
   "cell_type": "code",
   "execution_count": null,
   "metadata": {},
   "outputs": [],
   "source": [
    "fname = input(\"Enter file name: \")\n",
    "if fname == \"mbox-short.txt\": \n",
    "    fname = \"mbox-short.txt\"\n",
    "count = 0\n",
    "\n",
    "fh = open(fname)\n",
    "for line in fh:\n",
    "    line = line.rstrip()\n",
    "    if not line.startswith(\"From \"):\n",
    "        continue\n",
    "    words = line.split()\n",
    "    print(words[1])\n",
    "    count = count + 1\n",
    "    \n",
    "\n",
    "print(\"There were\", count, \"lines in the file with From as the first word\")"
   ]
  }
 ],
 "metadata": {
  "kernelspec": {
   "display_name": "Python 3",
   "language": "python",
   "name": "python3"
  },
  "language_info": {
   "codemirror_mode": {
    "name": "ipython",
    "version": 3
   },
   "file_extension": ".py",
   "mimetype": "text/x-python",
   "name": "python",
   "nbconvert_exporter": "python",
   "pygments_lexer": "ipython3",
   "version": "3.7.4"
  }
 },
 "nbformat": 4,
 "nbformat_minor": 2
}

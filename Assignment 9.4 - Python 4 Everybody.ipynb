{
 "cells": [
  {
   "cell_type": "markdown",
   "metadata": {},
   "source": [
    "# Assignment 9.4 \n",
    "Write a program to read through the mbox-short.txt and figure out who has sent the greatest number of mail messages. The program looks for 'From ' lines and takes the second word of those lines as the person who sent the mail. The program creates a Python dictionary that maps the sender's mail address to a count of the number of times they appear in the file. After the dictionary is produced, the program reads through the dictionary using a maximum loop to find the most prolific committer.\n",
    "#### You can download the sample data at http://www.py4e.com/code3/mbox-short.txt"
   ]
  },
  {
   "cell_type": "code",
   "execution_count": null,
   "metadata": {},
   "outputs": [],
   "source": [
    "name = input(\"Enter file:\")\n",
    "\n",
    "if name != \"mbox-short.txt\": \n",
    "    name = \"mbox-short.txt\"\n",
    "\n",
    "handle = open(name)\n",
    "counts = dict()\n",
    "mails = list()\n",
    "\n",
    "for line in handle:\n",
    "    line = line.rstrip()\n",
    "    if not line.startswith(\"From\"):\n",
    "        continue\n",
    "    words = line.split()\n",
    "    mails.append(words[1])\n",
    "for mail in mails:\n",
    "    counts[mail] = counts.get(mail, 0) + 0.5\n",
    "    ## Please check the mbox-short.txt file. Please try:\n",
    "    ## print(words)\n",
    "    ## You will notice that the mail adress is counted double for each mail, starting with \"From\" in the lime.\n",
    "    ## i.e. ['From', 'stephen.marquard@uct.ac.za', 'Sat', 'Jan', '5', '09:14:16', '2008'],['From:', 'stephen.marquard@uct.ac.za']\n",
    "    ## refers to only one mail.  So 0.5 is added instead of 1.\n",
    "bigcount = None\n",
    "bigword = None\n",
    "\n",
    "for mail,count in counts.items():\n",
    "    if bigcount is None or count > bigcount:\n",
    "        bigword = mail\n",
    "        bigcount = int(count)\n",
    "        \n",
    "        \n",
    "print(bigword,bigcount)\n",
    "        \n"
   ]
  }
 ],
 "metadata": {
  "kernelspec": {
   "display_name": "Python 3",
   "language": "python",
   "name": "python3"
  },
  "language_info": {
   "codemirror_mode": {
    "name": "ipython",
    "version": 3
   },
   "file_extension": ".py",
   "mimetype": "text/x-python",
   "name": "python",
   "nbconvert_exporter": "python",
   "pygments_lexer": "ipython3",
   "version": "3.7.4"
  }
 },
 "nbformat": 4,
 "nbformat_minor": 2
}

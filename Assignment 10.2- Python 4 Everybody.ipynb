{
 "cells": [
  {
   "cell_type": "markdown",
   "metadata": {},
   "source": [
    "#### Write a program to read through the mbox-short.txt and figure out the distribution by hour of the day for each of the messages. You can pull the hour out from the 'From ' line by finding the time and then splitting the string a second time using a colon. Once you have accumulated the counts for each hour, print out the counts, sorted by hour as shown below. \n",
    "#### You can download the sample data at http://www.py4e.com/code3/mbox-short.txt¶\n",
    "### <code/> From stephen.marquard@uct.ac.za Sat Jan  5 _09_:14:16 2008 <code/>\n",
    "\n"
   ]
  },
  {
   "cell_type": "code",
   "execution_count": 6,
   "metadata": {},
   "outputs": [
    {
     "name": "stdout",
     "output_type": "stream",
     "text": [
      "Enter file:mbox-short.txt\n",
      "04 3\n",
      "06 1\n",
      "07 1\n",
      "09 2\n",
      "10 3\n",
      "11 6\n",
      "14 1\n",
      "15 2\n",
      "16 4\n",
      "17 2\n",
      "18 1\n",
      "19 1\n"
     ]
    }
   ],
   "source": [
    "name = input(\"Enter file:\")\n",
    "\n",
    "if len(name) != \"mbox-short.txt\":\n",
    "    name = \"mbox-short.txt\"\n",
    "\n",
    "counts = list()\n",
    "hours = dict()\n",
    "lst= list()\n",
    "handle = open(name)\n",
    "\n",
    "for line in handle:\n",
    "    line = line.rstrip()\n",
    "    if not line.startswith(\"From\"):\n",
    "        continue\n",
    "    word = line.split()\n",
    "    # Check print(word) here, you will notice that there are 2 lines beginning with \"From\" for each mail. \n",
    "    # You can see that the other line contains 2 words, only with the mail adress: i.e. From stephen.marquard@uct.ac.za\n",
    "    # Eliminate these lines using len function\n",
    "    if len(word) == 2:\n",
    "        continue\n",
    "    # Obtain hour part from each line, then get only hour section by time[0:2]\n",
    "    for i in word:\n",
    "        time = word[5]\n",
    "        hour = time[0:2]\n",
    "    # counts list is temporary, we will use it to iterate over variables and form a dictionary. note that counts is not overwritten as a list.\n",
    "    counts.append(hour)\n",
    "for count in counts:\n",
    "    hours[count] = hours.get(count, 0) + 1\n",
    "    # Use the dictionary items and create a list with tuples.\n",
    "for k,v in hours.items():\n",
    "    newtup = (k,v)\n",
    "    lst.append(newtup)\n",
    "# You need to sort the list with tuples\n",
    "lst = sorted(lst)\n",
    "# Since the output is given as each variable, iterate over tuples and print them.\n",
    "for k, v in lst:\n",
    "    print(k,v)\n"
   ]
  }
 ],
 "metadata": {
  "kernelspec": {
   "display_name": "Python 3",
   "language": "python",
   "name": "python3"
  },
  "language_info": {
   "codemirror_mode": {
    "name": "ipython",
    "version": 3
   },
   "file_extension": ".py",
   "mimetype": "text/x-python",
   "name": "python",
   "nbconvert_exporter": "python",
   "pygments_lexer": "ipython3",
   "version": "3.7.4"
  }
 },
 "nbformat": 4,
 "nbformat_minor": 2
}

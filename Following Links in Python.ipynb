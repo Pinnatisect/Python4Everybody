{
 "cells": [
  {
   "cell_type": "code",
   "execution_count": 1,
   "metadata": {},
   "outputs": [],
   "source": [
    "import urllib.request, urllib.parse, urllib.error\n",
    "from bs4 import BeautifulSoup\n",
    "import ssl"
   ]
  },
  {
   "cell_type": "code",
   "execution_count": 3,
   "metadata": {},
   "outputs": [],
   "source": [
    "# Ignore SSL certificate errors\n",
    "ctx = ssl.create_default_context()\n",
    "ctx.check_hostname = False\n",
    "ctx.verify_mode = ssl.CERT_NONE"
   ]
  },
  {
   "cell_type": "code",
   "execution_count": 85,
   "metadata": {},
   "outputs": [
    {
     "name": "stdout",
     "output_type": "stream",
     "text": [
      "Enter - http://py4e-data.dr-chuck.net/known_by_Ryese.html\n",
      "Enter count:7\n",
      "Enter position:18\n"
     ]
    }
   ],
   "source": [
    "url = input('Enter - ')\n",
    "count = int(input(\"Enter count:\"))\n",
    "position = int(input(\"Enter position:\"))\n",
    "html = urllib.request.urlopen(url, context=ctx).read()\n",
    "soup = BeautifulSoup(html, 'html.parser')\n",
    "tags = soup('a')"
   ]
  },
  {
   "cell_type": "code",
   "execution_count": 86,
   "metadata": {
    "scrolled": false
   },
   "outputs": [
    {
     "name": "stdout",
     "output_type": "stream",
     "text": [
      "Your last link is: http://py4e-data.dr-chuck.net/known_by_Franklin.html\n"
     ]
    }
   ],
   "source": [
    "lst = [] # create a list, we'll clear it each loop.\n",
    "# Loop 7 times.\n",
    "for i in range(0, count):\n",
    "    for tag in tags:\n",
    "        lst.append(tag.get(\"href\"))\n",
    "    destination = lst[position-1] # get the link at 18th position.\n",
    "    html = urllib.request.urlopen(destination, context=ctx).read() # read this link\n",
    "    soup = BeautifulSoup(html, 'html.parser')\n",
    "    tags = soup('a')\n",
    "    lst.clear() # clear the list to start over again.\n",
    "print(\"Your last link is:\", destination) #we are asked about the last destination, which was the 18th position from 6th loop."
   ]
  }
 ],
 "metadata": {
  "kernelspec": {
   "display_name": "Python 3",
   "language": "python",
   "name": "python3"
  },
  "language_info": {
   "codemirror_mode": {
    "name": "ipython",
    "version": 3
   },
   "file_extension": ".py",
   "mimetype": "text/x-python",
   "name": "python",
   "nbconvert_exporter": "python",
   "pygments_lexer": "ipython3",
   "version": "3.7.4"
  }
 },
 "nbformat": 4,
 "nbformat_minor": 2
}
